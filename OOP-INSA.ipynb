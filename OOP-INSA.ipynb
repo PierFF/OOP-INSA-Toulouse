{
 "cells": [
  {
   "cell_type": "markdown",
   "id": "f47565ee-694e-425a-90f9-c5b36ab958c1",
   "metadata": {
    "editable": true,
    "jp-MarkdownHeadingCollapsed": true,
    "slideshow": {
     "slide_type": ""
    },
    "tags": []
   },
   "source": [
    "# Introduction"
   ]
  },
  {
   "cell_type": "markdown",
   "id": "260f63ce-1d1a-4351-ad65-7f23ae8fb309",
   "metadata": {
    "editable": true,
    "slideshow": {
     "slide_type": "slide"
    },
    "tags": []
   },
   "source": [
    "## Objects in python\n",
    "Everything is an object in Python ? Are you sure ? Let's see if it is true..."
   ]
  },
  {
   "cell_type": "code",
   "execution_count": 1,
   "id": "a00514d2-1772-456c-a61c-6142480532ab",
   "metadata": {
    "editable": true,
    "slideshow": {
     "slide_type": ""
    },
    "tags": []
   },
   "outputs": [
    {
     "data": {
      "text/plain": [
       "['__add__',\n",
       " '__class__',\n",
       " '__class_getitem__',\n",
       " '__contains__',\n",
       " '__delattr__',\n",
       " '__delitem__',\n",
       " '__dir__',\n",
       " '__doc__',\n",
       " '__eq__',\n",
       " '__format__',\n",
       " '__ge__',\n",
       " '__getattribute__',\n",
       " '__getitem__',\n",
       " '__getstate__',\n",
       " '__gt__',\n",
       " '__hash__',\n",
       " '__iadd__',\n",
       " '__imul__',\n",
       " '__init__',\n",
       " '__init_subclass__',\n",
       " '__iter__',\n",
       " '__le__',\n",
       " '__len__',\n",
       " '__lt__',\n",
       " '__mul__',\n",
       " '__ne__',\n",
       " '__new__',\n",
       " '__reduce__',\n",
       " '__reduce_ex__',\n",
       " '__repr__',\n",
       " '__reversed__',\n",
       " '__rmul__',\n",
       " '__setattr__',\n",
       " '__setitem__',\n",
       " '__sizeof__',\n",
       " '__str__',\n",
       " '__subclasshook__',\n",
       " 'append',\n",
       " 'clear',\n",
       " 'copy',\n",
       " 'count',\n",
       " 'extend',\n",
       " 'index',\n",
       " 'insert',\n",
       " 'pop',\n",
       " 'remove',\n",
       " 'reverse',\n",
       " 'sort']"
      ]
     },
     "execution_count": 1,
     "metadata": {},
     "output_type": "execute_result"
    }
   ],
   "source": [
    "a = [1, 2, 3, 4]\n",
    "dir(a)"
   ]
  },
  {
   "cell_type": "markdown",
   "id": "af66f0db-6b25-4df6-bbe2-b6e26b98f8d7",
   "metadata": {
    "editable": true,
    "slideshow": {
     "slide_type": ""
    },
    "tags": []
   },
   "source": [
    "Ok so a list is an object (created with a secific syntax) but come on, even literals like integers are object ?"
   ]
  },
  {
   "cell_type": "code",
   "execution_count": 16,
   "id": "e69916d5-eb70-4622-a5ab-f7e639dc38b9",
   "metadata": {
    "editable": true,
    "slideshow": {
     "slide_type": ""
    },
    "tags": []
   },
   "outputs": [
    {
     "name": "stdout",
     "output_type": "stream",
     "text": [
      "<class 'int'>\n"
     ]
    },
    {
     "data": {
      "text/plain": [
       "['__abs__',\n",
       " '__add__',\n",
       " '__and__',\n",
       " '__bool__',\n",
       " '__ceil__',\n",
       " '__class__',\n",
       " '__delattr__',\n",
       " '__dir__',\n",
       " '__divmod__',\n",
       " '__doc__',\n",
       " '__eq__',\n",
       " '__float__',\n",
       " '__floor__',\n",
       " '__floordiv__',\n",
       " '__format__',\n",
       " '__ge__',\n",
       " '__getattribute__',\n",
       " '__getnewargs__',\n",
       " '__getstate__',\n",
       " '__gt__',\n",
       " '__hash__',\n",
       " '__index__',\n",
       " '__init__',\n",
       " '__init_subclass__',\n",
       " '__int__',\n",
       " '__invert__',\n",
       " '__le__',\n",
       " '__lshift__',\n",
       " '__lt__',\n",
       " '__mod__',\n",
       " '__mul__',\n",
       " '__ne__',\n",
       " '__neg__',\n",
       " '__new__',\n",
       " '__or__',\n",
       " '__pos__',\n",
       " '__pow__',\n",
       " '__radd__',\n",
       " '__rand__',\n",
       " '__rdivmod__',\n",
       " '__reduce__',\n",
       " '__reduce_ex__',\n",
       " '__repr__',\n",
       " '__rfloordiv__',\n",
       " '__rlshift__',\n",
       " '__rmod__',\n",
       " '__rmul__',\n",
       " '__ror__',\n",
       " '__round__',\n",
       " '__rpow__',\n",
       " '__rrshift__',\n",
       " '__rshift__',\n",
       " '__rsub__',\n",
       " '__rtruediv__',\n",
       " '__rxor__',\n",
       " '__setattr__',\n",
       " '__sizeof__',\n",
       " '__str__',\n",
       " '__sub__',\n",
       " '__subclasshook__',\n",
       " '__truediv__',\n",
       " '__trunc__',\n",
       " '__xor__',\n",
       " 'as_integer_ratio',\n",
       " 'bit_count',\n",
       " 'bit_length',\n",
       " 'conjugate',\n",
       " 'denominator',\n",
       " 'from_bytes',\n",
       " 'imag',\n",
       " 'numerator',\n",
       " 'real',\n",
       " 'to_bytes']"
      ]
     },
     "execution_count": 16,
     "metadata": {},
     "output_type": "execute_result"
    }
   ],
   "source": [
    "print((1).__class__)\n",
    "dir(1)"
   ]
  },
  {
   "cell_type": "markdown",
   "id": "712504cf-9cd5-411c-b3b8-17174a8a8d45",
   "metadata": {
    "editable": true,
    "slideshow": {
     "slide_type": ""
    },
    "tags": []
   },
   "source": [
    "How can I check what is what ?"
   ]
  },
  {
   "cell_type": "code",
   "execution_count": 3,
   "id": "cfc5aceb-70cb-4da9-8c2f-1a6db46924fc",
   "metadata": {
    "editable": true,
    "slideshow": {
     "slide_type": ""
    },
    "tags": []
   },
   "outputs": [
    {
     "data": {
      "text/plain": [
       "(int, list, tuple)"
      ]
     },
     "execution_count": 3,
     "metadata": {},
     "output_type": "execute_result"
    }
   ],
   "source": [
    "type(1), type([1,2]), type((1,2,'a'))          "
   ]
  },
  {
   "cell_type": "markdown",
   "id": "8140164c-f828-4149-a9cf-f27ce2a489d8",
   "metadata": {
    "editable": true,
    "slideshow": {
     "slide_type": "slide"
    },
    "tags": []
   },
   "source": [
    "## Classes and instances"
   ]
  },
  {
   "cell_type": "code",
   "execution_count": 4,
   "id": "a59c9f47-6ad6-4bb3-a4ef-02054a19097f",
   "metadata": {
    "editable": true,
    "slideshow": {
     "slide_type": ""
    },
    "tags": []
   },
   "outputs": [
    {
     "name": "stdout",
     "output_type": "stream",
     "text": [
      "(<class 'type'>, True, False)\n"
     ]
    }
   ],
   "source": [
    "class MyFirstClass:\n",
    "    class_name = 'MyFirstClass' ## This is a class variable\n",
    "inst_wrong = MyFirstClass\n",
    "print((type(inst_wrong), inst_wrong is MyFirstClass, isinstance(inst_wrong, MyFirstClass)))"
   ]
  },
  {
   "cell_type": "code",
   "execution_count": 5,
   "id": "226bd92a-0224-4e39-b1c1-f319e1c8551c",
   "metadata": {},
   "outputs": [
    {
     "name": "stdout",
     "output_type": "stream",
     "text": [
      "(<class '__main__.MyFirstClass'>, False, True)\n"
     ]
    }
   ],
   "source": [
    "inst_ok = MyFirstClass()\n",
    "print((type(inst_ok), inst_ok is MyFirstClass, isinstance(inst_ok, MyFirstClass)))"
   ]
  },
  {
   "cell_type": "markdown",
   "id": "15a9bd05-cecb-476d-90b3-80d007bb6aaa",
   "metadata": {
    "editable": true,
    "slideshow": {
     "slide_type": ""
    },
    "tags": []
   },
   "source": [
    "To create an instance (object) you have to add () to class name. Arguments can be passed between ( and ) as explained later."
   ]
  },
  {
   "cell_type": "markdown",
   "id": "29fa3d54-b346-4af7-bf25-e64b3d718e18",
   "metadata": {},
   "source": [
    "## Class and instance variables"
   ]
  },
  {
   "cell_type": "markdown",
   "id": "941285fb-bcd8-4ee1-b787-df54fe1d065a",
   "metadata": {
    "editable": true,
    "slideshow": {
     "slide_type": ""
    },
    "tags": []
   },
   "source": [
    "Variables are accesed in python using a `.`. The variable `class_name` in `MyFirstClass` is a **class** variable, it is in the class definition so it is the same for all the instances (objects)."
   ]
  },
  {
   "cell_type": "code",
   "execution_count": 6,
   "id": "189944f4-3942-49e1-bf67-cb57db67e554",
   "metadata": {
    "editable": true,
    "scrolled": true,
    "slideshow": {
     "slide_type": ""
    },
    "tags": []
   },
   "outputs": [
    {
     "name": "stdout",
     "output_type": "stream",
     "text": [
      "('MyFirstClass', 'MyFirstClass')\n"
     ]
    }
   ],
   "source": [
    "inst1 = MyFirstClass()\n",
    "inst2 = MyFirstClass()\n",
    "print((inst1.class_name, inst2.class_name))"
   ]
  },
  {
   "cell_type": "markdown",
   "id": "4a7907de-9939-4e33-9386-3a4457d97ced",
   "metadata": {},
   "source": [
    "If you change a **class** varaible it changes for all instances fo the class. In this case there is no encapsulation."
   ]
  },
  {
   "cell_type": "code",
   "execution_count": 7,
   "id": "f989c67d-777d-400b-b13d-e9bd9438f4fd",
   "metadata": {},
   "outputs": [
    {
     "name": "stdout",
     "output_type": "stream",
     "text": [
      "('ThisIsAMuchFancierName', 'ThisIsAMuchFancierName')\n"
     ]
    }
   ],
   "source": [
    "MyFirstClass.class_name = 'ThisIsAMuchFancierName'\n",
    "print((inst1.class_name, inst2.class_name))"
   ]
  },
  {
   "cell_type": "markdown",
   "id": "61a64d80-8b3c-4123-a347-7d37d4b038ae",
   "metadata": {},
   "source": [
    "All objects(instances) in Python are dynamic so you can add all the variables you want to an object whenever you want. This creates **instance** variables and produces encapsulation. You can check the presence a variable (attribute) in an object (instance) with `hasattr()`."
   ]
  },
  {
   "cell_type": "code",
   "execution_count": 8,
   "id": "4dc3e0cc-bf9a-44ad-ae48-bf69f013d363",
   "metadata": {},
   "outputs": [
    {
     "name": "stdout",
     "output_type": "stream",
     "text": [
      "True\n",
      "FirstInstance\n",
      "False\n"
     ]
    },
    {
     "ename": "AttributeError",
     "evalue": "'MyFirstClass' object has no attribute 'object_name'",
     "output_type": "error",
     "traceback": [
      "\u001b[31m---------------------------------------------------------------------------\u001b[39m",
      "\u001b[31mAttributeError\u001b[39m                            Traceback (most recent call last)",
      "\u001b[36mCell\u001b[39m\u001b[36m \u001b[39m\u001b[32mIn[8]\u001b[39m\u001b[32m, line 5\u001b[39m\n\u001b[32m      3\u001b[39m \u001b[38;5;28mprint\u001b[39m(inst1.object_name)\n\u001b[32m      4\u001b[39m \u001b[38;5;28mprint\u001b[39m(\u001b[38;5;28mhasattr\u001b[39m(inst2,\u001b[33m'\u001b[39m\u001b[33mobject_name\u001b[39m\u001b[33m'\u001b[39m))\n\u001b[32m----> \u001b[39m\u001b[32m5\u001b[39m \u001b[38;5;28mprint\u001b[39m(\u001b[43minst2\u001b[49m\u001b[43m.\u001b[49m\u001b[43mobject_name\u001b[49m)\n",
      "\u001b[31mAttributeError\u001b[39m: 'MyFirstClass' object has no attribute 'object_name'"
     ]
    }
   ],
   "source": [
    "inst1.object_name = 'FirstInstance'\n",
    "print(hasattr(inst1,'object_name'))\n",
    "print(inst1.object_name)\n",
    "print(hasattr(inst2,'object_name'))\n",
    "print(inst2.object_name)"
   ]
  },
  {
   "cell_type": "markdown",
   "id": "0d83319d-4e49-4a96-a7a6-be7df84d7adc",
   "metadata": {
    "scrolled": true
   },
   "source": [
    "**Warning**: **class** variables could look as the logical choice for C++ and Java programmers, especially to mimic the behaviour of C++ and Java `static` class variables but be careful: when you mix **class** variables and dynamic objects the behavour can be quite confusing."
   ]
  },
  {
   "cell_type": "code",
   "execution_count": null,
   "id": "17b2aa44-200e-4bf1-945b-62b690fca1ee",
   "metadata": {},
   "outputs": [],
   "source": [
    "inst1.class_name ='TheFanciestNameEver'\n",
    "print((MyFirstClass.class_name, inst1.class_name, inst2.class_name))"
   ]
  },
  {
   "cell_type": "markdown",
   "id": "c20e0737-e4d2-48a8-9458-b447428461f5",
   "metadata": {},
   "source": [
    "So only use **class** variable in python if it is really,really, really necessary and in combination with class functions created using the `classmethod` decorator otherwise only use **instance** variables."
   ]
  },
  {
   "cell_type": "markdown",
   "id": "c985f090-a8b1-441e-9e85-972df0c1e52e",
   "metadata": {
    "jp-MarkdownHeadingCollapsed": true
   },
   "source": [
    "# Objects and Memory"
   ]
  },
  {
   "cell_type": "markdown",
   "id": "b6839020-bbe1-4206-8fb4-98640c26fed9",
   "metadata": {},
   "source": [
    "## Variables, objects and memory management"
   ]
  },
  {
   "cell_type": "markdown",
   "id": "85d20f4b-2ea4-47ec-9a12-a99dd3629698",
   "metadata": {},
   "source": [
    "Because of how varaibles work in python, assignment do not produce any copy. "
   ]
  },
  {
   "cell_type": "code",
   "execution_count": 8,
   "id": "51ba5003-12b6-415d-8749-58b53d3a5e01",
   "metadata": {},
   "outputs": [
    {
     "name": "stdout",
     "output_type": "stream",
     "text": [
      "[2, 2, 3]\n",
      "[2, 2, 3]\n"
     ]
    }
   ],
   "source": [
    "a = [1,2,3]\n",
    "b = a\n",
    "a[0] = 2\n",
    "print(a)\n",
    "print(b)"
   ]
  },
  {
   "cell_type": "markdown",
   "id": "74207861-39d2-4186-b29f-23fd68d4174e",
   "metadata": {},
   "source": [
    "This also affects objects passed to a function (i.e., if you are a c/c++ programmer: in python you always pass variables and return by reference!!)"
   ]
  },
  {
   "cell_type": "code",
   "execution_count": 17,
   "id": "cae4c62d-daae-4a6a-8dba-801f1a8ce611",
   "metadata": {},
   "outputs": [
    {
     "name": "stdout",
     "output_type": "stream",
     "text": [
      "[2, 2, 3]\n",
      "[2, 2, 3]\n"
     ]
    }
   ],
   "source": [
    "def change_first_element(l:list)->list:\n",
    "    l[0] = 2\n",
    "    return l\n",
    "\n",
    "a = [1,2,3]\n",
    "b  = change_first_element(a) # a and b are the same object !!!\n",
    "print(a)\n",
    "print(b)"
   ]
  },
  {
   "cell_type": "markdown",
   "id": "316b1403-8b03-404c-92c8-9c15c2850bb3",
   "metadata": {},
   "source": [
    "Beware, a and b are the same object !!!"
   ]
  },
  {
   "cell_type": "code",
   "execution_count": 16,
   "id": "53943a12-4163-4b5a-8419-001da68bdd6e",
   "metadata": {},
   "outputs": [
    {
     "name": "stdout",
     "output_type": "stream",
     "text": [
      "[2, 3, 3]\n",
      "[2, 3, 3]\n"
     ]
    }
   ],
   "source": [
    "b[1] = 3\n",
    "print(a)\n",
    "print(b)"
   ]
  },
  {
   "cell_type": "markdown",
   "id": "858932e0-8440-45af-b335-25eac0c7deca",
   "metadata": {},
   "source": [
    "If you want to copy a variable you need to use `copy` or `deepcopy`. But be careful about performances and memory, especially for scientifc code."
   ]
  },
  {
   "cell_type": "code",
   "execution_count": 9,
   "id": "c32e2c3e-874b-4d04-8826-596b6e723c1b",
   "metadata": {},
   "outputs": [
    {
     "name": "stdout",
     "output_type": "stream",
     "text": [
      "[2, 2, 3]\n",
      "[1, 2, 3]\n",
      "[1, 2, 3]\n"
     ]
    }
   ],
   "source": [
    "import copy\n",
    "a = [1,2,3]\n",
    "b = copy.copy(a)\n",
    "c = copy.deepcopy(b) # works exactly like copy in this case\n",
    "a[0] = 2\n",
    "print(a)\n",
    "print(b)\n",
    "print(c)"
   ]
  },
  {
   "cell_type": "markdown",
   "id": "b9dde616-5dc1-4282-a6e5-12e433b3d777",
   "metadata": {},
   "source": [
    "There is a slightly more complicated example to show how `deepcopy` works"
   ]
  },
  {
   "cell_type": "code",
   "execution_count": 14,
   "id": "bc6e80b8-7475-48e3-8100-16a1aa500868",
   "metadata": {},
   "outputs": [
    {
     "name": "stdout",
     "output_type": "stream",
     "text": [
      "['another name', [2, 2, 3]]\n",
      "['name', [2, 2, 3]]\n",
      "['name', [1, 2, 3]]\n"
     ]
    }
   ],
   "source": [
    "import copy\n",
    "a =[\"name\", [1,2,3]]\n",
    "b = copy.copy(a) # [1,2,3] object is the same used in a\n",
    "c = copy.deepcopy(b) # if you use a deepcopy a new [1,2,3] is created \n",
    "a[0] = \"another name\"\n",
    "a[1][0] = 2\n",
    "print(a)\n",
    "print(b)\n",
    "print(c)"
   ]
  },
  {
   "cell_type": "markdown",
   "id": "f67b3cf3-0f11-438b-81f5-94f44b3e7bbe",
   "metadata": {},
   "source": [
    "Which version of f is more efficient ?"
   ]
  },
  {
   "cell_type": "code",
   "execution_count": 40,
   "id": "756e6df0-d867-4700-8a9b-5ce91749e63a",
   "metadata": {},
   "outputs": [
    {
     "name": "stdout",
     "output_type": "stream",
     "text": [
      "100 100 100\n"
     ]
    }
   ],
   "source": [
    "import timeit\n",
    "a = list(range(10000)) # I cannot use range directly, we will speak about iterators objects later !\n",
    "# we want to do add a 100 at the end of a by using a function \n",
    "\n",
    "def append_v1(l: list) -> list :\n",
    "    return l + [100]\n",
    "\n",
    "def append_v2(l: list) -> list :\n",
    "    return [*l, 100]\n",
    "\n",
    "def append_v3(l: list) -> list :\n",
    "    l.append(100)\n",
    "    return l\n",
    "\n",
    "print(append_v1(a)[-1], append_v2(a)[-1], append_v3(a)[-1])"
   ]
  },
  {
   "cell_type": "markdown",
   "id": "e8e88da2-975a-4ded-8c41-362ecfe31b60",
   "metadata": {},
   "source": [
    "They all work, but is there really a difference in efficiency ?"
   ]
  },
  {
   "cell_type": "code",
   "execution_count": 42,
   "id": "babe0d1d-2678-40fc-b5d3-3b0712447c92",
   "metadata": {},
   "outputs": [
    {
     "name": "stdout",
     "output_type": "stream",
     "text": [
      "0.05304189999878872\n",
      "0.04614849999779835\n",
      "0.0001334000116912648\n"
     ]
    }
   ],
   "source": [
    "print(timeit.timeit('append_v1(a)', globals=globals(), number = 1000))\n",
    "print(timeit.timeit('append_v2(a)', globals=globals(), number = 1000))\n",
    "print(timeit.timeit('append_v3(a)', globals=globals(), number = 1000))"
   ]
  },
  {
   "cell_type": "markdown",
   "id": "1ad20ae6-3eb0-4bdb-8ef1-e0b2ce16f83e",
   "metadata": {},
   "source": [
    "# Using Objects In Python"
   ]
  },
  {
   "cell_type": "markdown",
   "id": "af759dc5-ef54-442d-bf19-53cbcecba6cb",
   "metadata": {},
   "source": [
    "## Class methods"
   ]
  },
  {
   "cell_type": "markdown",
   "id": "5b2c5d34-d791-42cc-b900-f6da27bcec0a",
   "metadata": {},
   "source": [
    "**ATTENTION:**  Class methods can be really confusing !!"
   ]
  },
  {
   "cell_type": "code",
   "execution_count": 8,
   "id": "80a4a169-aa42-4fb0-ba25-7a55c3e4825b",
   "metadata": {},
   "outputs": [
    {
     "name": "stdout",
     "output_type": "stream",
     "text": [
      "1\n"
     ]
    }
   ],
   "source": [
    "class ClassWithClassMethod:\n",
    "    a = 1\n",
    "    def change_a(i:int) -> None:\n",
    "        a = i\n",
    "\n",
    "ClassWithClassMethod.change_a(2)\n",
    "print(ClassWithClassMethod.a)"
   ]
  },
  {
   "cell_type": "markdown",
   "id": "317b588f-4f65-431e-98f8-8fa90378d375",
   "metadata": {},
   "source": [
    "**What ?!!!** In oredr to have the effect you need you need to do that."
   ]
  },
  {
   "cell_type": "code",
   "execution_count": 10,
   "id": "bdff9cd7-d892-4495-8c7b-c41a027f6ed9",
   "metadata": {},
   "outputs": [
    {
     "name": "stdout",
     "output_type": "stream",
     "text": [
      "2\n"
     ]
    }
   ],
   "source": [
    "class ClassWithClassMethod:\n",
    "    a = 1\n",
    "    def change_a(i:int) -> None:\n",
    "       ClassWithClassMethod.a = i\n",
    "\n",
    "ClassWithClassMethod.change_a(2)\n",
    "print(ClassWithClassMethod.a)"
   ]
  },
  {
   "cell_type": "markdown",
   "id": "f385a321-8d35-41f6-94fc-7162343762e6",
   "metadata": {},
   "source": [
    "This is not so practical when writing code beacause you need to repeat the class name everywhere in your code . This is why in python you have the `classmethod` decorator. (We will see in details what a decorator actually is and does later)."
   ]
  },
  {
   "cell_type": "code",
   "execution_count": 12,
   "id": "e31927ff-baeb-48c2-8c37-35f032f2c87e",
   "metadata": {},
   "outputs": [
    {
     "name": "stdout",
     "output_type": "stream",
     "text": [
      "2\n"
     ]
    }
   ],
   "source": [
    "class ClassWithClassMethod:\n",
    "    a = 1\n",
    "    @classmethod\n",
    "    def change_a(cls, i:int) -> None:\n",
    "       cls.a = i\n",
    "\n",
    "ClassWithClassMethod.change_a(2)\n",
    "print(ClassWithClassMethod.a)"
   ]
  },
  {
   "cell_type": "markdown",
   "id": "e3f22868-0ace-4630-abb4-afe0daf1b1ca",
   "metadata": {},
   "source": [
    "## Instance methods\n",
    "The first parameter, self, is automatically passed, so when you call the instance member you only specify the varaible following, self."
   ]
  },
  {
   "cell_type": "code",
   "execution_count": 15,
   "id": "ea1e2bdb-6579-45c2-a3d6-c6eda0c4b360",
   "metadata": {},
   "outputs": [
    {
     "name": "stdout",
     "output_type": "stream",
     "text": [
      "2\n"
     ]
    }
   ],
   "source": [
    "class ClassWithClassMethod:\n",
    "    def change_a(self, i:int) -> None: # self is automatically passed whe you use an instance of the class\n",
    "        self.a = i\n",
    "\n",
    "c = ClassWithClassMethod()\n",
    "c.a = 1      \n",
    "c.change_a(2) # the same thing\n",
    "\n",
    "print(c.a)"
   ]
  },
  {
   "cell_type": "markdown",
   "id": "c6570ad5-9c1f-4e52-8b26-d424bd2860ae",
   "metadata": {},
   "source": [
    "Be careful, self iit is only passed is you use an instance. I you want to use a class without defining instances, you must define a class method."
   ]
  },
  {
   "cell_type": "code",
   "execution_count": 16,
   "id": "e11e56d4-ec7a-4f3e-99f2-e991e1726e0b",
   "metadata": {},
   "outputs": [
    {
     "ename": "TypeError",
     "evalue": "ClassWithClassMethod.change_a() missing 1 required positional argument: 'i'",
     "output_type": "error",
     "traceback": [
      "\u001b[31m---------------------------------------------------------------------------\u001b[39m",
      "\u001b[31mTypeError\u001b[39m                                 Traceback (most recent call last)",
      "\u001b[36mCell\u001b[39m\u001b[36m \u001b[39m\u001b[32mIn[16]\u001b[39m\u001b[32m, line 6\u001b[39m\n\u001b[32m      3\u001b[39m         \u001b[38;5;28mself\u001b[39m.a = i\n\u001b[32m      5\u001b[39m c = ClassWithClassMethod()\n\u001b[32m----> \u001b[39m\u001b[32m6\u001b[39m \u001b[43mClassWithClassMethod\u001b[49m\u001b[43m.\u001b[49m\u001b[43mchange_a\u001b[49m\u001b[43m(\u001b[49m\u001b[32;43m2\u001b[39;49m\u001b[43m)\u001b[49m\n",
      "\u001b[31mTypeError\u001b[39m: ClassWithClassMethod.change_a() missing 1 required positional argument: 'i'"
     ]
    }
   ],
   "source": [
    "class ClassWithClassMethod:\n",
    "    def change_a(self, i:int) -> None: # self is automatically passed whe you use an instance of the class\n",
    "        self.a = i\n",
    "\n",
    "c = ClassWithClassMethod()\n",
    "ClassWithClassMethod.change_a(2)"
   ]
  },
  {
   "cell_type": "markdown",
   "id": "beaf9e49-4ebd-4753-a3b3-b0f038b89e46",
   "metadata": {},
   "source": [
    "You are not forced to use self as a name but it is **strongly suggested** to do it !!! This is the general idea of python, few things are mandatory but the language have **strong conventions** anf you really should **stick to them** if you don not want to break the code."
   ]
  },
  {
   "cell_type": "code",
   "execution_count": 19,
   "id": "11a788d1-bb59-48d7-aa6a-e860b948e1be",
   "metadata": {},
   "outputs": [
    {
     "name": "stdout",
     "output_type": "stream",
     "text": [
      "2\n"
     ]
    }
   ],
   "source": [
    "class ClassWithClassMethod:\n",
    "    def change_a(weird_name, i:int) -> None: # the first argument is automatically passed when you use an instance of the class\n",
    "        weird_name.a = i\n",
    "\n",
    "c = ClassWithClassMethod()\n",
    "c.a = 1      \n",
    "c.change_a(2) # the same thing\n",
    "\n",
    "print(c.a)"
   ]
  },
  {
   "cell_type": "markdown",
   "id": "37ddc3da-739d-422e-a52f-b8996806e6d8",
   "metadata": {},
   "source": [
    "Another convention is that variables, members and function starting with `_` in their name or having an initial and final `__`  have special meaning or behavior:"
   ]
  },
  {
   "cell_type": "code",
   "execution_count": 24,
   "id": "2fb1487b-fff5-4d99-833a-5e6ac4b6f4aa",
   "metadata": {},
   "outputs": [],
   "source": [
    "if __name__ =='__main__': # Special name indicating the exceution mode of the script and its special value\n",
    "    _, a = (1,2)  # Things you do not use when unpacking tuples are indecated by _\n",
    "    dummy_var, a = (1,2)  # This is considered completely unpythonic !!!"
   ]
  }
 ],
 "metadata": {
  "kernelspec": {
   "display_name": "Python 3 (ipykernel)",
   "language": "python",
   "name": "python3"
  },
  "language_info": {
   "codemirror_mode": {
    "name": "ipython",
    "version": 3
   },
   "file_extension": ".py",
   "mimetype": "text/x-python",
   "name": "python",
   "nbconvert_exporter": "python",
   "pygments_lexer": "ipython3",
   "version": "3.11.8"
  }
 },
 "nbformat": 4,
 "nbformat_minor": 5
}
