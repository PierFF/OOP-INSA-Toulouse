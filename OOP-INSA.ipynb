{
 "cells": [
  {
   "cell_type": "markdown",
   "id": "f47565ee-694e-425a-90f9-c5b36ab958c1",
   "metadata": {
    "editable": true,
    "slideshow": {
     "slide_type": ""
    },
    "tags": []
   },
   "source": [
    "# Introduction"
   ]
  },
  {
   "cell_type": "markdown",
   "id": "260f63ce-1d1a-4351-ad65-7f23ae8fb309",
   "metadata": {
    "editable": true,
    "slideshow": {
     "slide_type": "slide"
    },
    "tags": []
   },
   "source": [
    "## Objects in python\n",
    "Everything is an object in Python ? Are you sure ? Let's see if it is true..."
   ]
  },
  {
   "cell_type": "code",
   "execution_count": 1,
   "id": "a00514d2-1772-456c-a61c-6142480532ab",
   "metadata": {
    "editable": true,
    "slideshow": {
     "slide_type": ""
    },
    "tags": []
   },
   "outputs": [
    {
     "data": {
      "text/plain": [
       "['__add__',\n",
       " '__class__',\n",
       " '__class_getitem__',\n",
       " '__contains__',\n",
       " '__delattr__',\n",
       " '__delitem__',\n",
       " '__dir__',\n",
       " '__doc__',\n",
       " '__eq__',\n",
       " '__format__',\n",
       " '__ge__',\n",
       " '__getattribute__',\n",
       " '__getitem__',\n",
       " '__getstate__',\n",
       " '__gt__',\n",
       " '__hash__',\n",
       " '__iadd__',\n",
       " '__imul__',\n",
       " '__init__',\n",
       " '__init_subclass__',\n",
       " '__iter__',\n",
       " '__le__',\n",
       " '__len__',\n",
       " '__lt__',\n",
       " '__mul__',\n",
       " '__ne__',\n",
       " '__new__',\n",
       " '__reduce__',\n",
       " '__reduce_ex__',\n",
       " '__repr__',\n",
       " '__reversed__',\n",
       " '__rmul__',\n",
       " '__setattr__',\n",
       " '__setitem__',\n",
       " '__sizeof__',\n",
       " '__str__',\n",
       " '__subclasshook__',\n",
       " 'append',\n",
       " 'clear',\n",
       " 'copy',\n",
       " 'count',\n",
       " 'extend',\n",
       " 'index',\n",
       " 'insert',\n",
       " 'pop',\n",
       " 'remove',\n",
       " 'reverse',\n",
       " 'sort']"
      ]
     },
     "execution_count": 1,
     "metadata": {},
     "output_type": "execute_result"
    }
   ],
   "source": [
    "a = [1, 2, 3, 4]\n",
    "dir(a)"
   ]
  },
  {
   "cell_type": "markdown",
   "id": "af66f0db-6b25-4df6-bbe2-b6e26b98f8d7",
   "metadata": {
    "editable": true,
    "slideshow": {
     "slide_type": ""
    },
    "tags": []
   },
   "source": [
    "Ok so a list is an object (created with a secific syntax) but come on, even literals like integers are object ?"
   ]
  },
  {
   "cell_type": "code",
   "execution_count": 16,
   "id": "e69916d5-eb70-4622-a5ab-f7e639dc38b9",
   "metadata": {
    "editable": true,
    "slideshow": {
     "slide_type": ""
    },
    "tags": []
   },
   "outputs": [
    {
     "name": "stdout",
     "output_type": "stream",
     "text": [
      "<class 'int'>\n"
     ]
    },
    {
     "data": {
      "text/plain": [
       "['__abs__',\n",
       " '__add__',\n",
       " '__and__',\n",
       " '__bool__',\n",
       " '__ceil__',\n",
       " '__class__',\n",
       " '__delattr__',\n",
       " '__dir__',\n",
       " '__divmod__',\n",
       " '__doc__',\n",
       " '__eq__',\n",
       " '__float__',\n",
       " '__floor__',\n",
       " '__floordiv__',\n",
       " '__format__',\n",
       " '__ge__',\n",
       " '__getattribute__',\n",
       " '__getnewargs__',\n",
       " '__getstate__',\n",
       " '__gt__',\n",
       " '__hash__',\n",
       " '__index__',\n",
       " '__init__',\n",
       " '__init_subclass__',\n",
       " '__int__',\n",
       " '__invert__',\n",
       " '__le__',\n",
       " '__lshift__',\n",
       " '__lt__',\n",
       " '__mod__',\n",
       " '__mul__',\n",
       " '__ne__',\n",
       " '__neg__',\n",
       " '__new__',\n",
       " '__or__',\n",
       " '__pos__',\n",
       " '__pow__',\n",
       " '__radd__',\n",
       " '__rand__',\n",
       " '__rdivmod__',\n",
       " '__reduce__',\n",
       " '__reduce_ex__',\n",
       " '__repr__',\n",
       " '__rfloordiv__',\n",
       " '__rlshift__',\n",
       " '__rmod__',\n",
       " '__rmul__',\n",
       " '__ror__',\n",
       " '__round__',\n",
       " '__rpow__',\n",
       " '__rrshift__',\n",
       " '__rshift__',\n",
       " '__rsub__',\n",
       " '__rtruediv__',\n",
       " '__rxor__',\n",
       " '__setattr__',\n",
       " '__sizeof__',\n",
       " '__str__',\n",
       " '__sub__',\n",
       " '__subclasshook__',\n",
       " '__truediv__',\n",
       " '__trunc__',\n",
       " '__xor__',\n",
       " 'as_integer_ratio',\n",
       " 'bit_count',\n",
       " 'bit_length',\n",
       " 'conjugate',\n",
       " 'denominator',\n",
       " 'from_bytes',\n",
       " 'imag',\n",
       " 'numerator',\n",
       " 'real',\n",
       " 'to_bytes']"
      ]
     },
     "execution_count": 16,
     "metadata": {},
     "output_type": "execute_result"
    }
   ],
   "source": [
    "print((1).__class__)\n",
    "dir(1)"
   ]
  },
  {
   "cell_type": "markdown",
   "id": "712504cf-9cd5-411c-b3b8-17174a8a8d45",
   "metadata": {
    "editable": true,
    "slideshow": {
     "slide_type": ""
    },
    "tags": []
   },
   "source": [
    "How can I check what is what ?"
   ]
  },
  {
   "cell_type": "code",
   "execution_count": 3,
   "id": "cfc5aceb-70cb-4da9-8c2f-1a6db46924fc",
   "metadata": {
    "editable": true,
    "slideshow": {
     "slide_type": ""
    },
    "tags": []
   },
   "outputs": [
    {
     "data": {
      "text/plain": [
       "(int, list, tuple)"
      ]
     },
     "execution_count": 3,
     "metadata": {},
     "output_type": "execute_result"
    }
   ],
   "source": [
    "type(1), type([1,2]), type((1,2,'a'))          "
   ]
  },
  {
   "cell_type": "markdown",
   "id": "8140164c-f828-4149-a9cf-f27ce2a489d8",
   "metadata": {
    "editable": true,
    "slideshow": {
     "slide_type": "slide"
    },
    "tags": []
   },
   "source": [
    "## Classes and instances"
   ]
  },
  {
   "cell_type": "code",
   "execution_count": 4,
   "id": "a59c9f47-6ad6-4bb3-a4ef-02054a19097f",
   "metadata": {
    "editable": true,
    "slideshow": {
     "slide_type": ""
    },
    "tags": []
   },
   "outputs": [
    {
     "name": "stdout",
     "output_type": "stream",
     "text": [
      "(<class 'type'>, True, False)\n"
     ]
    }
   ],
   "source": [
    "class MyFirstClass:\n",
    "    class_name = 'MyFirstClass' ## This is a class variable\n",
    "inst_wrong = MyFirstClass\n",
    "print((type(inst_wrong), inst_wrong is MyFirstClass, isinstance(inst_wrong, MyFirstClass)))"
   ]
  },
  {
   "cell_type": "code",
   "execution_count": 5,
   "id": "226bd92a-0224-4e39-b1c1-f319e1c8551c",
   "metadata": {},
   "outputs": [
    {
     "name": "stdout",
     "output_type": "stream",
     "text": [
      "(<class '__main__.MyFirstClass'>, False, True)\n"
     ]
    }
   ],
   "source": [
    "inst_ok = MyFirstClass()\n",
    "print((type(inst_ok), inst_ok is MyFirstClass, isinstance(inst_ok, MyFirstClass)))"
   ]
  },
  {
   "cell_type": "markdown",
   "id": "15a9bd05-cecb-476d-90b3-80d007bb6aaa",
   "metadata": {
    "editable": true,
    "slideshow": {
     "slide_type": ""
    },
    "tags": []
   },
   "source": [
    "To create an instance (object) you have to add () to class name. Arguments can be passed between ( and ) as explained later."
   ]
  },
  {
   "cell_type": "markdown",
   "id": "29fa3d54-b346-4af7-bf25-e64b3d718e18",
   "metadata": {},
   "source": [
    "## Class and instance variables"
   ]
  },
  {
   "cell_type": "markdown",
   "id": "941285fb-bcd8-4ee1-b787-df54fe1d065a",
   "metadata": {
    "editable": true,
    "slideshow": {
     "slide_type": ""
    },
    "tags": []
   },
   "source": [
    "Variables are accesed in python using a `.`. The variable `class_name` in `MyFirstClass` is a **class** variable, it is in the class definition so it is the same for all the instances (objects)."
   ]
  },
  {
   "cell_type": "code",
   "execution_count": 6,
   "id": "189944f4-3942-49e1-bf67-cb57db67e554",
   "metadata": {
    "editable": true,
    "scrolled": true,
    "slideshow": {
     "slide_type": ""
    },
    "tags": []
   },
   "outputs": [
    {
     "name": "stdout",
     "output_type": "stream",
     "text": [
      "('MyFirstClass', 'MyFirstClass')\n"
     ]
    }
   ],
   "source": [
    "inst1 = MyFirstClass()\n",
    "inst2 = MyFirstClass()\n",
    "print((inst1.class_name, inst2.class_name))"
   ]
  },
  {
   "cell_type": "markdown",
   "id": "4a7907de-9939-4e33-9386-3a4457d97ced",
   "metadata": {},
   "source": [
    "If you change a **class** varaible it changes for all instances fo the class. In this case there is no encapsulation."
   ]
  },
  {
   "cell_type": "code",
   "execution_count": 7,
   "id": "f989c67d-777d-400b-b13d-e9bd9438f4fd",
   "metadata": {},
   "outputs": [
    {
     "name": "stdout",
     "output_type": "stream",
     "text": [
      "('ThisIsAMuchFancierName', 'ThisIsAMuchFancierName')\n"
     ]
    }
   ],
   "source": [
    "MyFirstClass.class_name = 'ThisIsAMuchFancierName'\n",
    "print((inst1.class_name, inst2.class_name))"
   ]
  },
  {
   "cell_type": "markdown",
   "id": "61a64d80-8b3c-4123-a347-7d37d4b038ae",
   "metadata": {},
   "source": [
    "All objects(instances) in Python are dynamic so you can add all the variables you want to an object whenever you want. This creates **instance** variables and produces encapsulation. You can check the presence a variable (attribute) in an object (instance) with `hasattr()`."
   ]
  },
  {
   "cell_type": "code",
   "execution_count": 8,
   "id": "4dc3e0cc-bf9a-44ad-ae48-bf69f013d363",
   "metadata": {},
   "outputs": [
    {
     "name": "stdout",
     "output_type": "stream",
     "text": [
      "True\n",
      "FirstInstance\n",
      "False\n"
     ]
    },
    {
     "ename": "AttributeError",
     "evalue": "'MyFirstClass' object has no attribute 'object_name'",
     "output_type": "error",
     "traceback": [
      "\u001b[31m---------------------------------------------------------------------------\u001b[39m",
      "\u001b[31mAttributeError\u001b[39m                            Traceback (most recent call last)",
      "\u001b[36mCell\u001b[39m\u001b[36m \u001b[39m\u001b[32mIn[8]\u001b[39m\u001b[32m, line 5\u001b[39m\n\u001b[32m      3\u001b[39m \u001b[38;5;28mprint\u001b[39m(inst1.object_name)\n\u001b[32m      4\u001b[39m \u001b[38;5;28mprint\u001b[39m(\u001b[38;5;28mhasattr\u001b[39m(inst2,\u001b[33m'\u001b[39m\u001b[33mobject_name\u001b[39m\u001b[33m'\u001b[39m))\n\u001b[32m----> \u001b[39m\u001b[32m5\u001b[39m \u001b[38;5;28mprint\u001b[39m(\u001b[43minst2\u001b[49m\u001b[43m.\u001b[49m\u001b[43mobject_name\u001b[49m)\n",
      "\u001b[31mAttributeError\u001b[39m: 'MyFirstClass' object has no attribute 'object_name'"
     ]
    }
   ],
   "source": [
    "inst1.object_name = 'FirstInstance'\n",
    "print(hasattr(inst1,'object_name'))\n",
    "print(inst1.object_name)\n",
    "print(hasattr(inst2,'object_name'))\n",
    "print(inst2.object_name)"
   ]
  },
  {
   "cell_type": "markdown",
   "id": "0d83319d-4e49-4a96-a7a6-be7df84d7adc",
   "metadata": {
    "scrolled": true
   },
   "source": [
    "**Warning**: **class** variables could look as the logical choice for C++ and Java programmers, especially to mimic the behaviour of C++ and Java `static` class variables but be careful: when you mix **class** variables and dynamic objects the behavour can be quite confusing."
   ]
  },
  {
   "cell_type": "code",
   "execution_count": null,
   "id": "17b2aa44-200e-4bf1-945b-62b690fca1ee",
   "metadata": {},
   "outputs": [],
   "source": [
    "inst1.class_name ='TheFanciestNameEver'\n",
    "print((MyFirstClass.class_name, inst1.class_name, inst2.class_name))"
   ]
  },
  {
   "cell_type": "markdown",
   "id": "c20e0737-e4d2-48a8-9458-b447428461f5",
   "metadata": {},
   "source": [
    "So only use **class** variable in python if it is really,really, really necessary and in combination with class functions created using the `classmethod` decorator otherwise only use **instance** variables."
   ]
  },
  {
   "cell_type": "markdown",
   "id": "b6839020-bbe1-4206-8fb4-98640c26fed9",
   "metadata": {},
   "source": [
    "## Variables, objects and memory management"
   ]
  },
  {
   "cell_type": "code",
   "execution_count": null,
   "id": "51ba5003-12b6-415d-8749-58b53d3a5e01",
   "metadata": {},
   "outputs": [],
   "source": []
  },
  {
   "cell_type": "markdown",
   "id": "1ad20ae6-3eb0-4bdb-8ef1-e0b2ce16f83e",
   "metadata": {},
   "source": [
    "## Objects initialisation and methods"
   ]
  },
  {
   "cell_type": "code",
   "execution_count": 4,
   "id": "80a4a169-aa42-4fb0-ba25-7a55c3e4825b",
   "metadata": {},
   "outputs": [
    {
     "data": {
      "text/plain": [
       "['__abs__',\n",
       " '__add__',\n",
       " '__and__',\n",
       " '__bool__',\n",
       " '__ceil__',\n",
       " '__class__',\n",
       " '__delattr__',\n",
       " '__dir__',\n",
       " '__divmod__',\n",
       " '__doc__',\n",
       " '__eq__',\n",
       " '__float__',\n",
       " '__floor__',\n",
       " '__floordiv__',\n",
       " '__format__',\n",
       " '__ge__',\n",
       " '__getattribute__',\n",
       " '__getnewargs__',\n",
       " '__getstate__',\n",
       " '__gt__',\n",
       " '__hash__',\n",
       " '__index__',\n",
       " '__init__',\n",
       " '__init_subclass__',\n",
       " '__int__',\n",
       " '__invert__',\n",
       " '__le__',\n",
       " '__lshift__',\n",
       " '__lt__',\n",
       " '__mod__',\n",
       " '__mul__',\n",
       " '__ne__',\n",
       " '__neg__',\n",
       " '__new__',\n",
       " '__or__',\n",
       " '__pos__',\n",
       " '__pow__',\n",
       " '__radd__',\n",
       " '__rand__',\n",
       " '__rdivmod__',\n",
       " '__reduce__',\n",
       " '__reduce_ex__',\n",
       " '__repr__',\n",
       " '__rfloordiv__',\n",
       " '__rlshift__',\n",
       " '__rmod__',\n",
       " '__rmul__',\n",
       " '__ror__',\n",
       " '__round__',\n",
       " '__rpow__',\n",
       " '__rrshift__',\n",
       " '__rshift__',\n",
       " '__rsub__',\n",
       " '__rtruediv__',\n",
       " '__rxor__',\n",
       " '__setattr__',\n",
       " '__sizeof__',\n",
       " '__str__',\n",
       " '__sub__',\n",
       " '__subclasshook__',\n",
       " '__truediv__',\n",
       " '__trunc__',\n",
       " '__xor__',\n",
       " 'as_integer_ratio',\n",
       " 'bit_count',\n",
       " 'bit_length',\n",
       " 'conjugate',\n",
       " 'denominator',\n",
       " 'from_bytes',\n",
       " 'imag',\n",
       " 'is_integer',\n",
       " 'numerator',\n",
       " 'real',\n",
       " 'to_bytes']"
      ]
     },
     "execution_count": 4,
     "metadata": {},
     "output_type": "execute_result"
    }
   ],
   "source": [
    "dir(1)"
   ]
  }
 ],
 "metadata": {
  "kernelspec": {
   "display_name": "Python 3 (ipykernel)",
   "language": "python",
   "name": "python3"
  },
  "language_info": {
   "codemirror_mode": {
    "name": "ipython",
    "version": 3
   },
   "file_extension": ".py",
   "mimetype": "text/x-python",
   "name": "python",
   "nbconvert_exporter": "python",
   "pygments_lexer": "ipython3",
   "version": "3.12.3"
  }
 },
 "nbformat": 4,
 "nbformat_minor": 5
}
