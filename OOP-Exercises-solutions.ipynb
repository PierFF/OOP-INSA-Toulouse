{
 "cells": [
  {
   "cell_type": "markdown",
   "id": "06cd8ba2-7d2d-4653-ba2c-4166539b7e07",
   "metadata": {
    "editable": true,
    "slideshow": {
     "slide_type": ""
    },
    "tags": []
   },
   "source": [
    "## Exercice 1"
   ]
  },
  {
   "cell_type": "code",
   "execution_count": 2,
   "id": "6c6639ab-e100-43fc-a765-a5efd5ae6b0c",
   "metadata": {
    "editable": true,
    "slideshow": {
     "slide_type": ""
    },
    "tags": []
   },
   "outputs": [],
   "source": [
    "class Mickey:\n",
    "    n = 1\n",
    "\n",
    "    @classmethod\n",
    "    def get_n(cls) -> int:\n",
    "        return cls.n\n",
    "\n",
    "    @classmethod\n",
    "    def set_n(cls, n:int) -> None:\n",
    "        cls.n = n\n",
    "\n",
    "    def __init__(self) -> None:\n",
    "        n = self.get_n()\n",
    "        self.name = \"Mickey{}\".format(n)\n",
    "        self.set_n(n+1)\n",
    "\n",
    "    def print(self) -> None:\n",
    "        print(self.name)\n",
    "\n",
    "    def __repr__(self) -> str:\n",
    "        return \"I am {}\".format(self.name)"
   ]
  }
 ],
 "metadata": {
  "kernelspec": {
   "display_name": "Python 3 (ipykernel)",
   "language": "python",
   "name": "python3"
  },
  "language_info": {
   "codemirror_mode": {
    "name": "ipython",
    "version": 3
   },
   "file_extension": ".py",
   "mimetype": "text/x-python",
   "name": "python",
   "nbconvert_exporter": "python",
   "pygments_lexer": "ipython3",
   "version": "3.11.8"
  }
 },
 "nbformat": 4,
 "nbformat_minor": 5
}
