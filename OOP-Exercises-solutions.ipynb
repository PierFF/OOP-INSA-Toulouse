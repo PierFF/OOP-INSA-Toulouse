{
 "cells": [
  {
   "cell_type": "markdown",
   "id": "06cd8ba2-7d2d-4653-ba2c-4166539b7e07",
   "metadata": {
    "editable": true,
    "slideshow": {
     "slide_type": ""
    },
    "tags": []
   },
   "source": [
    "## Exercice 1"
   ]
  },
  {
   "cell_type": "code",
   "execution_count": 2,
   "id": "6c6639ab-e100-43fc-a765-a5efd5ae6b0c",
   "metadata": {
    "editable": true,
    "slideshow": {
     "slide_type": ""
    },
    "tags": []
   },
   "outputs": [],
   "source": [
    "class Mickey:\n",
    "    n = 1\n",
    "\n",
    "    @classmethod\n",
    "    def get_n(cls) -> int:\n",
    "        return cls.n\n",
    "\n",
    "    @classmethod\n",
    "    def set_n(cls, n:int) -> None:\n",
    "        cls.n = n\n",
    "\n",
    "    def __init__(self) -> None:\n",
    "        n = self.get_n()\n",
    "        self.name = \"Mickey{}\".format(n)\n",
    "        self.set_n(n+1)\n",
    "\n",
    "    def print(self) -> None:\n",
    "        print(self.name)\n",
    "\n",
    "    def __repr__(self) -> str:\n",
    "        return \"I am {}\".format(self.name)"
   ]
  },
  {
   "cell_type": "markdown",
   "id": "a22c2dcc-a862-4c32-bdb9-76e54def725f",
   "metadata": {},
   "source": [
    "# Exercice 2"
   ]
  },
  {
   "cell_type": "code",
   "execution_count": null,
   "id": "17a39d19-1bfa-447d-966e-c42ad854258d",
   "metadata": {},
   "outputs": [],
   "source": [
    "class Fruit:\n",
    "    def __init__(self, name:str, color:str, weeks:int):\n",
    "        self._name = name\n",
    "        self._color = color\n",
    "        self._weeks = weeks\n",
    "        self._expired:bool = False\n",
    "\n",
    "    def _check_expiration(self, current_weeks:int) -> None:\n",
    "        if current_weeks >= self._weeks:\n",
    "            self._expired = True\n",
    "\n",
    "    def __repr__(self) -> str :\n",
    "        return 'fruit:{} color: {}'.format(self._name, self._color)\n",
    "        \n",
    "class Basket:\n",
    "    def __init__(self):\n",
    "        self._fruits = []\n",
    "        self._current_week:int = 0\n",
    "\n",
    "    def add(self, f:Fruit) -> None:\n",
    "        self._fruits.append(f)\n",
    "\n",
    "    def next(self):\n",
    "        self._current_week += 1 \n",
    "        for f in self._fruits:\n",
    "            f._check_expiration(self._current_week)\n",
    "            \n",
    "    def __repr__(self) -> str:\n",
    "        ret = \"List of non-perished fruits:\\n\"\n",
    "        for f in self._fruits:\n",
    "            if not f._expired:\n",
    "                ret += f.__repr__() +'\\n'\n",
    "        return ret"
   ]
  },
  {
   "cell_type": "markdown",
   "id": "3905825b-a4de-43c4-ae01-d95cdedc6079",
   "metadata": {},
   "source": [
    "# Exercice 3"
   ]
  },
  {
   "cell_type": "code",
   "execution_count": 2,
   "id": "4d6065b1-2ec3-4a93-a40b-3cbe2e120b6a",
   "metadata": {},
   "outputs": [
    {
     "name": "stdout",
     "output_type": "stream",
     "text": [
      "Hello World !\n"
     ]
    }
   ],
   "source": [
    "class HappyMessage:\n",
    "    def __init__(self):\n",
    "        self._message = '!'\n",
    "\n",
    "class Hello(HappyMessage): # to be filled\n",
    "    def __init__(self):\n",
    "        super().__init__()\n",
    "        self._message = 'Hello ' + self._message\n",
    "\n",
    "class World(HappyMessage): # to be filled\n",
    "    def __init__(self):\n",
    "        super().__init__()\n",
    "        self._message = 'World ' + self._message \n",
    "\n",
    "class HelloWorld(Hello, World):\n",
    "    def __init__(self):\n",
    "        super().__init__()\n",
    "\n",
    "    def __repr__(self):\n",
    "        return self._message\n",
    "\n",
    "hw = HelloWorld()\n",
    "print(hw)"
   ]
  }
 ],
 "metadata": {
  "kernelspec": {
   "display_name": "Python 3 (ipykernel)",
   "language": "python",
   "name": "python3"
  },
  "language_info": {
   "codemirror_mode": {
    "name": "ipython",
    "version": 3
   },
   "file_extension": ".py",
   "mimetype": "text/x-python",
   "name": "python",
   "nbconvert_exporter": "python",
   "pygments_lexer": "ipython3",
   "version": "3.11.8"
  }
 },
 "nbformat": 4,
 "nbformat_minor": 5
}
